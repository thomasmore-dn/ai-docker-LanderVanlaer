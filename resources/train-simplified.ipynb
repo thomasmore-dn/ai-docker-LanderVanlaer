{
 "cells": [
  {
   "cell_type": "code",
   "execution_count": 356,
   "id": "e868a3f8-ae6d-4049-a478-265a008377ce",
   "metadata": {
    "tags": []
   },
   "outputs": [],
   "source": [
    "import sagemaker\n",
    "import boto3\n",
    "# import pandas as pd\n",
    "import numpy as np\n",
    "import gzip\n",
    "import pickle\n",
    "import matplotlib.pyplot as plt\n",
    "from sagemaker.tensorflow import TensorFlow\n",
    "import io\n",
    "from sklearn.metrics import confusion_matrix, ConfusionMatrixDisplay"
   ]
  },
  {
   "cell_type": "code",
   "execution_count": 18,
   "id": "cd23cfd0-6af5-4b65-bdd6-ea0e75e077ce",
   "metadata": {
    "tags": []
   },
   "outputs": [],
   "source": [
    "# To turn off the INFO logs of sagemaker\n",
    "import logging\n",
    "\n",
    "sagemaker_config_logger = logging.getLogger(\"sagemaker.config\")\n",
    "sagemaker_config_logger.setLevel(logging.WARNING)"
   ]
  },
  {
   "cell_type": "code",
   "execution_count": 32,
   "id": "d91b3e8c-7a40-49ed-88c0-27533080a7fd",
   "metadata": {
    "tags": []
   },
   "outputs": [
    {
     "data": {
      "text/plain": [
       "('eu-west-1',\n",
       " 'sagemaker-eu-west-1-782668106505',\n",
       " 'arn:aws:iam::782668106505:role/CFN-SM-IM-Lambda-Catalog-SageMakerExecutionRole-7eZPkVpfzwSl')"
      ]
     },
     "execution_count": 32,
     "metadata": {},
     "output_type": "execute_result"
    }
   ],
   "source": [
    "sess = sagemaker.Session()\n",
    "region = sess.boto_region_name\n",
    "write_bucket = sess.default_bucket()\n",
    "sagemaker_role = sagemaker.get_execution_role()\n",
    "\n",
    "region, write_bucket, sagemaker_role"
   ]
  },
  {
   "cell_type": "code",
   "execution_count": 33,
   "id": "aa61f55a-d828-4237-8362-f2191d41995c",
   "metadata": {
    "tags": []
   },
   "outputs": [],
   "source": [
    "s3_client = boto3.client(\"s3\", region_name=region)\n",
    "sagemaker_client = boto3.client(\"sagemaker\")"
   ]
  },
  {
   "cell_type": "markdown",
   "id": "db8da748-dfa5-436d-9cf5-5d4f7d9b22a1",
   "metadata": {},
   "source": [
    "Let's download the MNIST dataset\n",
    "\n",
    "*The following code is derived from https://github.com/aws/amazon-sagemaker-examples/blob/main/sagemaker-python-sdk/1P_kmeans_highlevel/kmeans_mnist.ipynb*"
   ]
  },
  {
   "cell_type": "code",
   "execution_count": 49,
   "id": "f3a4c922-ffbd-4c3d-a7e5-ba7ae0733579",
   "metadata": {
    "tags": []
   },
   "outputs": [],
   "source": [
    "s3_client.download_file(\"sagemaker-sample-files\", \"datasets/image/MNIST/mnist.pkl.gz\", \"mnist.pkl.gz\")"
   ]
  },
  {
   "cell_type": "code",
   "execution_count": 54,
   "id": "37fb902e-de51-4003-a1c4-769b135a3511",
   "metadata": {
    "tags": []
   },
   "outputs": [],
   "source": [
    "with gzip.open(\"mnist.pkl.gz\", \"rb\") as f:\n",
    "    train_set, valid_set, test_set = pickle.load(f, encoding=\"latin1\")"
   ]
  },
  {
   "cell_type": "markdown",
   "id": "ee31cfc3-b035-467e-84ee-0d98b83f6313",
   "metadata": {},
   "source": [
    "Looking at the data, we can see that it consists of $50,000$ images, where each image is composed of $784$ pixels.\n",
    "\n",
    "$\\sqrt {784} = 28$, where the images are $28 \\times 28$ pixels"
   ]
  },
  {
   "cell_type": "code",
   "execution_count": 62,
   "id": "92dd9c23-a78e-4118-b0af-f566b62d0a7e",
   "metadata": {
    "tags": []
   },
   "outputs": [
    {
     "data": {
      "text/plain": [
       "((50000, 784), (50000,))"
      ]
     },
     "execution_count": 62,
     "metadata": {},
     "output_type": "execute_result"
    }
   ],
   "source": [
    "train_set[0].shape, train_set[1].shape"
   ]
  },
  {
   "cell_type": "markdown",
   "id": "ba1c8f38-3291-4ebf-881c-be207a0d36bc",
   "metadata": {},
   "source": [
    "Looking to the data, the pixel values are already normalized."
   ]
  },
  {
   "cell_type": "code",
   "execution_count": 115,
   "id": "de8976b1-b057-4ed3-96a7-b805d4e7757e",
   "metadata": {
    "tags": []
   },
   "outputs": [
    {
     "data": {
      "text/plain": [
       "(0.0, 0.99609375)"
      ]
     },
     "execution_count": 115,
     "metadata": {},
     "output_type": "execute_result"
    }
   ],
   "source": [
    "train_set[0].min(), train_set[0].max()"
   ]
  },
  {
   "cell_type": "markdown",
   "id": "9a16965b-53c5-41c9-a18d-512d44d943db",
   "metadata": {},
   "source": [
    "Let's first try to print every number as an image"
   ]
  },
  {
   "cell_type": "code",
   "execution_count": 96,
   "id": "4a7c3ab7-63a0-4201-9efd-0b80937d1fb7",
   "metadata": {
    "tags": []
   },
   "outputs": [
    {
     "data": {
      "image/png": "[encoded data removed]",
      "text/plain": [
       "<Figure size 1600x500 with 10 Axes>"
      ]
     },
     "metadata": {},
     "output_type": "display_data"
    }
   ],
   "source": [
    "plt.figure(figsize=(16,5))\n",
    "\n",
    "for i in range(10):\n",
    "    plt.subplot(2, 5, i + 1)\n",
    "    index_of_image = np.argwhere(train_set[1] == i)[0]\n",
    "    plt.imshow(train_set[0][index_of_image].reshape((28, 28)), interpolation='nearest', cmap=\"Greys\")"
   ]
  },
  {
   "cell_type": "markdown",
   "id": "ac734056-47fe-4d22-8ec1-d9ee49573592",
   "metadata": {},
   "source": [
    "# Model"
   ]
  },
  {
   "cell_type": "markdown",
   "id": "d1f0715f-f3a8-48fa-9a07-ee79c66e68c5",
   "metadata": {},
   "source": [
    "## KNN\n",
    "\n",
    "First, we will create and fit a K-nearest neighbors algorithm."
   ]
  },
  {
   "cell_type": "code",
   "execution_count": 118,
   "id": "91ab13b2-f415-4457-8cf0-19dfa00118c8",
   "metadata": {
    "tags": []
   },
   "outputs": [
    {
     "name": "stdout",
     "output_type": "stream",
     "text": [
      "training data will be uploaded to: s3://sagemaker-eu-west-1-782668106505/kmeans_highlevel_example/data\n",
      "training artifacts will be uploaded to: s3://sagemaker-eu-west-1-782668106505/kmeans_example/output\n"
     ]
    }
   ],
   "source": [
    "data_location = f\"s3://{write_bucket}/kmeans_highlevel_example/data\"\n",
    "output_location = f\"s3://{write_bucket}/kmeans_example/output\"\n",
    "\n",
    "print(f\"training data will be uploaded to: {data_location}\")\n",
    "print(f\"training artifacts will be uploaded to: {output_location}\")\n",
    "\n",
    "\n",
    "knn = sagemaker.KNN(\n",
    "    k=10,\n",
    "    sample_size=train_set[0].shape[0],\n",
    "    predictor_type='classifier',\n",
    "\n",
    "    instance_count=1,\n",
    "    instance_type=\"ml.c4.xlarge\",\n",
    "    role=sagemaker_role,\n",
    "\n",
    "    output_path=output_location,\n",
    "    data_location=data_location,\n",
    ")"
   ]
  },
  {
   "cell_type": "code",
   "execution_count": 119,
   "id": "842b4911-f28e-48c3-a7a2-40ec357790ba",
   "metadata": {
    "scrolled": true,
    "tags": []
   },
   "outputs": [
    {
     "name": "stderr",
     "output_type": "stream",
     "text": [
      "INFO:sagemaker.image_uris:Same images used for training and inference. Defaulting to image scope: inference.\n",
      "INFO:sagemaker.image_uris:Ignoring unnecessary instance type: None.\n",
      "INFO:sagemaker.image_uris:Same images used for training and inference. Defaulting to image scope: inference.\n",
      "INFO:sagemaker.image_uris:Ignoring unnecessary instance type: None.\n",
      "INFO:sagemaker:Creating training-job with name: knn-2023-12-11-16-10-31-664\n"
     ]
    },
    {
     "name": "stdout",
     "output_type": "stream",
     "text": [
      "2023-12-11 16:10:31 Starting - Starting the training job......\n",
      "2023-12-11 16:11:10 Starting - Preparing the instances for training......\n",
      "2023-12-11 16:12:19 Downloading - Downloading input data...\n",
      "2023-12-11 16:12:44 Training - Downloading the training image..................\n",
      "\n",
      "\n",
      "################## This Part is partially deleted ##################",
      "\n",
      "\n",
      "2023-12-11 16:16:21 Uploading - Uploading generated training model\n",
      "2023-12-11 16:16:21 Completed - Training job completed\n",
      "Training seconds: 243\n",
      "Billable seconds: 243\n",
      "CPU times: user 12.1 s, sys: 589 ms, total: 12.7 s\n",
      "Wall time: 6min 29s\n"
     ]
    }
   ],
   "source": [
    "%%time\n",
    "\n",
    "knn.fit(knn.record_set(train_set[0], labels=train_set[1]))"
   ]
  },
  {
   "cell_type": "code",
   "execution_count": 319,
   "id": "72c63206-03b2-459f-a495-3490292b1983",
   "metadata": {
    "tags": []
   },
   "outputs": [
    {
     "name": "stderr",
     "output_type": "stream",
     "text": [
      "INFO:sagemaker.image_uris:Same images used for training and inference. Defaulting to image scope: inference.\n",
      "INFO:sagemaker.image_uris:Ignoring unnecessary instance type: None.\n",
      "INFO:sagemaker:Creating model with name: knn-2023-12-11-20-05-26-302\n",
      "INFO:sagemaker:Creating endpoint-config with name knn-2023-12-11-20-05-26-302\n",
      "INFO:sagemaker:Creating endpoint with name knn-2023-12-11-20-05-26-302\n"
     ]
    },
    {
     "name": "stdout",
     "output_type": "stream",
     "text": [
      "----------!"
     ]
    }
   ],
   "source": [
    "knn_predictor = knn.deploy(initial_instance_count=1, instance_type=\"ml.r5.large\")"
   ]
  },
  {
   "cell_type": "code",
   "execution_count": 323,
   "id": "05c904cf-3a2b-4388-bc09-7505b8aee6d0",
   "metadata": {
    "tags": []
   },
   "outputs": [],
   "source": [
    "knn_predictions = knn_predictor.predict(test_set[0][:1000])"
   ]
  },
  {
   "cell_type": "code",
   "execution_count": 354,
   "id": "34f65ec6-4547-48c3-8411-c3f56072d38f",
   "metadata": {
    "tags": []
   },
   "outputs": [],
   "source": [
    "confusion_matrix_knn = confusion_matrix(test_set[1][:1000], [o.label[\"predicted_label\"].float64_tensor.values[0] for o in knn_predictions], labels=list(range(10)))"
   ]
  },
  {
   "cell_type": "code",
   "execution_count": 361,
   "id": "44a821d8-bed6-44bd-aa67-3cac30626edc",
   "metadata": {
    "tags": []
   },
   "outputs": [
    {
     "data": {
      "text/plain": [
       "<sklearn.metrics._plot.confusion_matrix.ConfusionMatrixDisplay at 0x7f76903cfd60>"
      ]
     },
     "execution_count": 361,
     "metadata": {},
     "output_type": "execute_result"
    },
    {
     "data": {
      "image/png": "[encoded data removed]",
      "text/plain": [
       "<Figure size 1000x1000 with 2 Axes>"
      ]
     },
     "metadata": {},
     "output_type": "display_data"
    }
   ],
   "source": [
    "fig, ax = plt.subplots(figsize=(10,10))\n",
    "disp = ConfusionMatrixDisplay(confusion_matrix=confusion_matrix_knn, display_labels=list(range(10)))\n",
    "disp.plot(ax=ax)"
   ]
  },
  {
   "cell_type": "markdown",
   "id": "a61e5ecd-1048-4171-9bc6-db150733130a",
   "metadata": {
    "tags": []
   },
   "source": [
    "# Autoencoder\n",
    "\n",
    "*The following code is derived from https://www.tensorflow.org/tutorials/generative/autoencoder#first_example_basic_autoencoder and https://www.kaggle.com/code/darkmistress/tensorflow-in-sagemaker#Training-Script---Create-Model*"
   ]
  },
  {
   "cell_type": "markdown",
   "id": "f4c4a6ec-6f96-4600-8cf7-c6ede95187f9",
   "metadata": {},
   "source": [
    "First install TensorFlow"
   ]
  },
  {
   "cell_type": "code",
   "execution_count": 135,
   "id": "d3514178-bbc8-4d65-b428-b50595d96592",
   "metadata": {
    "tags": []
   },
   "outputs": [
    {
     "name": "stdout",
     "output_type": "stream",
     "text": [
      "\u001b[33mWARNING: Running pip as the 'root' user can result in broken permissions and conflicting behaviour with the system package manager. It is recommended to use a virtual environment instead: https://pip.pypa.io/warnings/venv\u001b[0m\u001b[33m\n",
      "\u001b[0m\n",
      "\u001b[1m[\u001b[0m\u001b[34;49mnotice\u001b[0m\u001b[1;39;49m]\u001b[0m\u001b[39;49m A new release of pip is available: \u001b[0m\u001b[31;49m23.2.1\u001b[0m\u001b[39;49m -> \u001b[0m\u001b[32;49m23.3.1\u001b[0m\n",
      "\u001b[1m[\u001b[0m\u001b[34;49mnotice\u001b[0m\u001b[1;39;49m]\u001b[0m\u001b[39;49m To update, run: \u001b[0m\u001b[32;49mpip install --upgrade pip\u001b[0m\n"
     ]
    }
   ],
   "source": [
    "!pip install tensorflow -q"
   ]
  },
  {
   "cell_type": "markdown",
   "id": "9bd4e190-7752-4b1f-a91b-52df590ea216",
   "metadata": {},
   "source": [
    "Then write a script that will create, train and save the model"
   ]
  },
  {
   "cell_type": "code",
   "execution_count": 195,
   "id": "8e4fcb2f-9f1b-4f8d-b9e9-8ece076ec452",
   "metadata": {
    "tags": []
   },
   "outputs": [
    {
     "data": {
      "text/plain": [
       "(784,)"
      ]
     },
     "execution_count": 195,
     "metadata": {},
     "output_type": "execute_result"
    }
   ],
   "source": [
    "train_set[0].shape[1:]"
   ]
  },
  {
   "cell_type": "code",
   "execution_count": 207,
   "id": "2c96affd-80f1-4720-a045-d737a53000d0",
   "metadata": {
    "tags": []
   },
   "outputs": [
    {
     "data": {
      "text/plain": [
       "'eu-west-1'"
      ]
     },
     "execution_count": 207,
     "metadata": {},
     "output_type": "execute_result"
    }
   ],
   "source": [
    "region"
   ]
  },
  {
   "cell_type": "code",
   "execution_count": 233,
   "id": "63c60688-3c51-4be8-8fb7-c62bb51c475e",
   "metadata": {
    "tags": []
   },
   "outputs": [
    {
     "data": {
      "text/plain": [
       "'sagemaker-eu-west-1-782668106505'"
      ]
     },
     "execution_count": 233,
     "metadata": {},
     "output_type": "execute_result"
    }
   ],
   "source": [
    "write_bucket"
   ]
  },
  {
   "cell_type": "code",
   "execution_count": 246,
   "id": "ccb2e84b-d8ac-46d6-af36-81e032023cd0",
   "metadata": {
    "tags": []
   },
   "outputs": [
    {
     "name": "stdout",
     "output_type": "stream",
     "text": [
      "Overwriting train.py\n"
     ]
    }
   ],
   "source": [
    "%%writefile train.py\n",
    "\n",
    "import argparse\n",
    "import os\n",
    "import json\n",
    "import boto3\n",
    "\n",
    "import tensorflow as tf\n",
    "\n",
    "from sklearn.metrics import accuracy_score, precision_score, recall_score\n",
    "from sklearn.model_selection import train_test_split\n",
    "from tensorflow.keras import layers, losses\n",
    "from tensorflow.keras.datasets import fashion_mnist\n",
    "from tensorflow.keras.models import Model\n",
    "\n",
    "import io\n",
    "import pickle\n",
    "import joblib\n",
    "\n",
    "bucket = \"sagemaker-eu-west-1-782668106505\"\n",
    "s3_client = boto3.client(\"s3\", region_name='eu-west-1')\n",
    "\n",
    "class Autoencoder(tf.keras.Model):\n",
    "    def __init__(self, latent_dim, shape):\n",
    "        super(Autoencoder, self).__init__()\n",
    "\n",
    "        self.latent_dim = latent_dim\n",
    "        self.shape = shape\n",
    "        self.encoder = tf.keras.Sequential([\n",
    "          layers.Flatten(),\n",
    "          layers.Dense(latent_dim, activation='relu'),\n",
    "        ])\n",
    "        self.decoder = tf.keras.Sequential([\n",
    "          layers.Dense(tf.math.reduce_prod(shape), activation='sigmoid'),\n",
    "          layers.Reshape(shape)\n",
    "        ])\n",
    "\n",
    "    def call(self, x):\n",
    "        encoded = self.encoder(x)\n",
    "        decoded = self.decoder(encoded)\n",
    "        return decoded\n",
    "\n",
    "\n",
    "def create_model():\n",
    "    # (784,)  train_set[0].shape[1:]\n",
    "    model = Autoencoder(64, (784,))\n",
    "    \n",
    "    model.compile(optimizer='adam', loss=losses.MeanSquaredError())\n",
    "\n",
    "    return model\n",
    "\n",
    "def get_data(directory):\n",
    "    bytes_set = io.BytesIO()\n",
    "    s3_client.download_fileobj(bucket, 'autoencoder/data/train_set.pkl', bytes_set)\n",
    "    bytes_set.seek(0)\n",
    "    train_set = pickle.load(bytes_set)\n",
    "    \n",
    "    bytes_set = io.BytesIO()\n",
    "    s3_client.download_fileobj(bucket, 'autoencoder/data/valid_set.pkl', bytes_set)\n",
    "    bytes_set.seek(0)\n",
    "    valid_set = pickle.load(bytes_set)\n",
    "    \n",
    "    return train_set, valid_set\n",
    "\n",
    "if __name__ =='__main__':\n",
    "\n",
    "    parser = argparse.ArgumentParser()\n",
    "\n",
    "    # hyperparameters sent by the client are passed as command-line arguments to the script.\n",
    "    parser.add_argument('--epochs', type=int, default=10)\n",
    "    parser.add_argument('--batch_size', type=int, default=16)\n",
    "    # parser.add_argument('--steps', type=int, default=int(5873/16))\n",
    "    # parser.add_argument('--val_steps', type=int, default=(1476/16))\n",
    "\n",
    "    # input data and model directories\n",
    "    parser.add_argument('--sm-model-dir', type=str, default=os.environ.get('SM_MODEL_DIR'))\n",
    "\n",
    "    args, _ = parser.parse_known_args()\n",
    "\n",
    "    local_output_dir = args.sm_model_dir\n",
    "    batch_size = args.batch_size\n",
    "    \n",
    "    model = create_model()\n",
    "    \n",
    "    train_data, valid_data = get_data(local_output_dir)\n",
    "\n",
    "    history = model.fit(\n",
    "        train_data, train_data,\n",
    "        epochs=args.epochs,\n",
    "        # steps_per_epoch=args.steps,\n",
    "        shuffle=True,\n",
    "        validation_data=(valid_data, valid_data),\n",
    "        # validation_steps=args.val_steps\n",
    "    )\n",
    "\n",
    "    model.save(os.path.join(local_output_dir, 'model', '1'))"
   ]
  },
  {
   "cell_type": "markdown",
   "id": "8a4ff858-ca15-4493-89cd-b5b38f04844a",
   "metadata": {},
   "source": [
    "Store both the train and validation sets, allowing them to be easily loaded in the script."
   ]
  },
  {
   "cell_type": "code",
   "execution_count": 205,
   "id": "d8a8077a-2ab3-41d8-abc0-132b33aaead2",
   "metadata": {
    "tags": []
   },
   "outputs": [
    {
     "data": {
      "text/plain": [
       "True"
      ]
     },
     "execution_count": 205,
     "metadata": {},
     "output_type": "execute_result"
    }
   ],
   "source": [
    "# https://stackoverflow.com/a/58083405/13165967\n",
    "\n",
    "# upload without using disk\n",
    "bytes_set = io.BytesIO()\n",
    "pickle.dump(train_set[0], bytes_set)\n",
    "bytes_set.seek(0)\n",
    "s3_client.upload_fileobj(bytes_set, write_bucket, 'autoencoder/data/train_set.pkl')\n",
    "\n",
    "# download without using disk\n",
    "bytes_set2 = io.BytesIO()\n",
    "s3_client.download_fileobj(write_bucket, 'autoencoder/data/train_set.pkl', bytes_set2)\n",
    "bytes_set2.seek(0)\n",
    "set2 = pickle.load(bytes_set2)\n",
    "\n",
    "# check that everything is correct\n",
    "np.allclose(train_set[0], set2)"
   ]
  },
  {
   "cell_type": "code",
   "execution_count": 206,
   "id": "9265f67d-ebd5-4dd2-b680-6de80f6f2594",
   "metadata": {
    "tags": []
   },
   "outputs": [
    {
     "data": {
      "text/plain": [
       "True"
      ]
     },
     "execution_count": 206,
     "metadata": {},
     "output_type": "execute_result"
    }
   ],
   "source": [
    "# upload without using disk\n",
    "bytes_set = io.BytesIO()\n",
    "pickle.dump(valid_set[0], bytes_set)\n",
    "bytes_set.seek(0)\n",
    "s3_client.upload_fileobj(bytes_set, write_bucket, 'autoencoder/data/valid_set.pkl')\n",
    "\n",
    "# download without using disk\n",
    "bytes_set2 = io.BytesIO()\n",
    "s3_client.download_fileobj(write_bucket, 'autoencoder/data/valid_set.pkl', bytes_set2)\n",
    "bytes_set2.seek(0)\n",
    "set2 = pickle.load(bytes_set2)\n",
    "\n",
    "# check that everything is correct\n",
    "np.allclose(valid_set[0], set2)"
   ]
  },
  {
   "cell_type": "code",
   "execution_count": 201,
   "id": "f1fac15f-476b-4373-81ba-b53949ca96fc",
   "metadata": {
    "tags": []
   },
   "outputs": [],
   "source": [
    "!pip freeze > requirements.txt"
   ]
  },
  {
   "cell_type": "code",
   "execution_count": 221,
   "id": "f9476173-248d-4221-901b-ce727671e819",
   "metadata": {
    "tags": []
   },
   "outputs": [],
   "source": [
    "# https://stackoverflow.com/a/53532238/13165967\n",
    "env = {\n",
    "    'SAGEMAKER_REQUIREMENTS': 'requirements.txt', # path relative to `source_dir` below.\n",
    "}"
   ]
  },
  {
   "cell_type": "code",
   "execution_count": 252,
   "id": "5a7035a0-143e-428b-9a1a-372f694d334c",
   "metadata": {
    "tags": []
   },
   "outputs": [],
   "source": [
    "estimator = TensorFlow(\n",
    "    entry_point='train.py',\n",
    "    \n",
    "    role=sagemaker_role,\n",
    "    instance_count=1,\n",
    "    instance_type='ml.c4.xlarge',\n",
    "    \n",
    "    framework_version='2.1.0',\n",
    "    py_version='py3',\n",
    "\n",
    "    source_dir = '.',\n",
    "    env = env,\n",
    "   \n",
    "    output_path=f\"s3://{write_bucket}/autoencoder\"\n",
    ")"
   ]
  },
  {
   "cell_type": "code",
   "execution_count": 253,
   "id": "4bb54145-7303-48b6-9002-a8a909cb27a0",
   "metadata": {
    "scrolled": true,
    "tags": []
   },
   "outputs": [
    {
     "name": "stderr",
     "output_type": "stream",
     "text": [
      "INFO:sagemaker.image_uris:image_uri is not presented, retrieving image_uri based on instance_type, framework etc.\n"
     ]
    },
    {
     "name": "stdout",
     "output_type": "stream",
     "text": [
      "Using provided s3_resource\n"
     ]
    },
    {
     "name": "stderr",
     "output_type": "stream",
     "text": [
      "INFO:sagemaker.image_uris:image_uri is not presented, retrieving image_uri based on instance_type, framework etc.\n",
      "INFO:sagemaker:Creating training-job with name: tensorflow-training-2023-12-11-19-00-05-848\n"
     ]
    },
    {
     "name": "stdout",
     "output_type": "stream",
     "text": [
      "2023-12-11 19:01:29 Starting - Starting the training job......\n",
      "2023-12-11 19:02:06 Starting - Preparing the instances for training...\n",
      "2023-12-11 19:02:58 Downloading - Downloading input data...\n",
      "2023-12-11 19:03:23 Training - Downloading the training image...\n",
      "2023-12-11 19:03:39 Training - Training image download completed. Training in progress.\u001b[34m2023-12-11 19:03:47,239 sagemaker-containers INFO     Imported framework sagemaker_tensorflow_container.training\u001b[0m\n",
      "\n",
      "\n",
      "################## This Part is partially deleted ##################",
      "\n",
      "\n",
      "2023-12-11 19:05:21 Uploading - Uploading generated training model\n",
      "2023-12-11 19:05:21 Completed - Training job completed\n",
      "Training seconds: 142\n",
      "Billable seconds: 142\n",
      "CPU times: user 1min 13s, sys: 3.68 s, total: 1min 16s\n",
      "Wall time: 5min 41s\n"
     ]
    }
   ],
   "source": [
    "%%time\n",
    "estimator.fit()"
   ]
  },
  {
   "cell_type": "markdown",
   "id": "51c88617-28e4-4d9e-9089-93b41bf38975",
   "metadata": {},
   "source": [
    "## Test"
   ]
  },
  {
   "cell_type": "markdown",
   "id": "84564c12-6c11-40f7-8708-d68da3e4fc11",
   "metadata": {},
   "source": [
    "download"
   ]
  },
  {
   "cell_type": "code",
   "execution_count": 254,
   "id": "43ad95ba-40ac-400e-b3df-593e5a839a9a",
   "metadata": {
    "tags": []
   },
   "outputs": [],
   "source": [
    "s3_client.download_file(\"sagemaker-eu-west-1-782668106505\", \"autoencoder/tensorflow-training-2023-12-11-19-00-05-848/output/model.tar.gz\", \"model.tar.gz\")"
   ]
  },
  {
   "cell_type": "markdown",
   "id": "7380459a-c0a2-4af6-b12b-e0fece1e43aa",
   "metadata": {},
   "source": [
    "extract model file `.tar.gz`"
   ]
  },
  {
   "cell_type": "code",
   "execution_count": 261,
   "id": "581e1226-da89-4509-8243-716e5ea69c59",
   "metadata": {
    "tags": []
   },
   "outputs": [],
   "source": [
    "import tarfile \n",
    "  \n",
    "file = tarfile.open('model.tar.gz') \n",
    "  \n",
    "file.extractall('.') \n",
    "# file.extract(\"model/1/saved_model.pb\", \".\")\n",
    "\n",
    "file.close() "
   ]
  },
  {
   "cell_type": "code",
   "execution_count": 263,
   "id": "f08a01eb-a6a0-4c2d-ba1e-7979dbc09a4b",
   "metadata": {
    "tags": []
   },
   "outputs": [
    {
     "name": "stderr",
     "output_type": "stream",
     "text": [
      "WARNING:tensorflow:SavedModel saved prior to TF 2.5 detected when loading Keras model. Please ensure that you are saving the model with model.save() or tf.keras.models.save_model(), *NOT* tf.saved_model.save(). To confirm, there should be a file named \"keras_metadata.pb\" in the SavedModel directory.\n",
      "INFO:absl:Fingerprint not found. Saved model loading will continue.\n",
      "INFO:absl:path_and_singleprint metric could not be logged. Saved model loading will continue.\n"
     ]
    }
   ],
   "source": [
    "model = tf.keras.models.load_model(\"./model/1\")"
   ]
  },
  {
   "cell_type": "code",
   "execution_count": 299,
   "id": "04025781-46f8-463b-aeaa-8b53657e1012",
   "metadata": {
    "tags": []
   },
   "outputs": [],
   "source": [
    "images = np.array([train_set[0][np.argwhere(train_set[1] == i)[0]] for i in range(10)]).reshape(10, 784)"
   ]
  },
  {
   "cell_type": "code",
   "execution_count": 300,
   "id": "8cb409bb-b51c-42a3-81c2-2261315e9a5c",
   "metadata": {
    "tags": []
   },
   "outputs": [],
   "source": [
    "encoded_images = model.encoder(images).numpy()\n",
    "decoded_images = model.decoder(encoded_images).numpy()"
   ]
  },
  {
   "cell_type": "code",
   "execution_count": 305,
   "id": "5408479f-c532-42c1-84e6-7a7bb7f77916",
   "metadata": {
    "tags": []
   },
   "outputs": [
    {
     "name": "stdout",
     "output_type": "stream",
     "text": [
      "784 -> 64 -> 784\n"
     ]
    }
   ],
   "source": [
    "print(images.shape[1], \"->\", encoded_images.shape[1], \"->\", decoded_images.shape[1])"
   ]
  },
  {
   "cell_type": "code",
   "execution_count": 298,
   "id": "9065d033-b970-422c-a0b6-82dd537d38cf",
   "metadata": {
    "tags": []
   },
   "outputs": [
    {
     "data": {
      "image/png": "[encoded data removed]",
      "text/plain": [
       "<Figure size 1600x1000 with 20 Axes>"
      ]
     },
     "metadata": {},
     "output_type": "display_data"
    }
   ],
   "source": [
    "plt.figure(figsize=(16,10))\n",
    "\n",
    "for i in range(5):\n",
    "    plt.subplot(4, 5, i + 1)\n",
    "    plt.imshow(images[i].reshape((28, 28)), interpolation='nearest', cmap=\"Greys\")\n",
    "    plt.subplot(4, 5, i + 1 + 5)\n",
    "    plt.imshow(decoded_images[i].reshape((28, 28)), interpolation='nearest', cmap=\"Greys\")\n",
    "\n",
    "for i in range(5, 10):\n",
    "    plt.subplot(4, 5, i + 1 + 5)\n",
    "    plt.imshow(images[i].reshape((28, 28)), interpolation='nearest', cmap=\"Greys\")\n",
    "    plt.subplot(4, 5, i + 1 + 5 + 5)\n",
    "    plt.imshow(decoded_images[i].reshape((28, 28)), interpolation='nearest', cmap=\"Greys\")"
   ]
  },
  {
   "cell_type": "markdown",
   "id": "94343aa3-61c8-4d36-95bd-8ed6ab085195",
   "metadata": {},
   "source": [
    "## KNN - autoencoder"
   ]
  },
  {
   "cell_type": "code",
   "execution_count": 307,
   "id": "ffa0ae01-eac1-4a07-b5aa-c71e34b689c6",
   "metadata": {
    "tags": []
   },
   "outputs": [
    {
     "name": "stderr",
     "output_type": "stream",
     "text": [
      "2023-12-11 19:56:34.722318: W external/local_tsl/tsl/framework/cpu_allocator_impl.cc:83] Allocation of 156800000 exceeds 10% of free system memory.\n"
     ]
    }
   ],
   "source": [
    "encoded_train_set = model.encoder(train_set[0]).numpy()"
   ]
  },
  {
   "cell_type": "code",
   "execution_count": 313,
   "id": "99e364d6-8dd2-4128-9bf2-517c2f7a4626",
   "metadata": {
    "tags": []
   },
   "outputs": [
    {
     "name": "stdout",
     "output_type": "stream",
     "text": [
      "training data will be uploaded to: s3://sagemaker-eu-west-1-782668106505/knn-autoencoder/data\n",
      "training artifacts will be uploaded to: s3://sagemaker-eu-west-1-782668106505/knn-autoencoder/output\n"
     ]
    }
   ],
   "source": [
    "data_location_autoencoder = f\"s3://{write_bucket}/knn-autoencoder/data\"\n",
    "output_location_autoencoder = f\"s3://{write_bucket}/knn-autoencoder/output\"\n",
    "\n",
    "print(f\"training data will be uploaded to: {data_location_autoencoder}\")\n",
    "print(f\"training artifacts will be uploaded to: {output_location_autoencoder}\")\n",
    "\n",
    "\n",
    "knn_autoencoder = sagemaker.KNN(\n",
    "    k=10,\n",
    "    sample_size=encoded_train_set.shape[0],\n",
    "    predictor_type='classifier',\n",
    "\n",
    "    instance_count=1,\n",
    "    instance_type=\"ml.c4.xlarge\",\n",
    "    role=sagemaker_role,\n",
    "\n",
    "    output_path=output_location_autoencoder,\n",
    "    data_location=data_location_autoencoder,\n",
    ")"
   ]
  },
  {
   "cell_type": "code",
   "execution_count": 362,
   "id": "9897aeff-7ce4-4daa-b5cf-b8cade369717",
   "metadata": {
    "scrolled": true,
    "tags": []
   },
   "outputs": [
    {
     "name": "stderr",
     "output_type": "stream",
     "text": [
      "INFO:sagemaker.image_uris:Same images used for training and inference. Defaulting to image scope: inference.\n",
      "INFO:sagemaker.image_uris:Ignoring unnecessary instance type: None.\n",
      "INFO:sagemaker.image_uris:Same images used for training and inference. Defaulting to image scope: inference.\n",
      "INFO:sagemaker.image_uris:Ignoring unnecessary instance type: None.\n",
      "INFO:sagemaker:Creating training-job with name: knn-2023-12-11-20-21-23-346\n"
     ]
    },
    {
     "name": "stdout",
     "output_type": "stream",
     "text": [
      "2023-12-11 20:21:23 Starting - Starting the training job...\n",
      "2023-12-11 20:21:38 Starting - Preparing the instances for training......\n",
      "2023-12-11 20:22:50 Downloading - Downloading input data...\n",
      "2023-12-11 20:23:14 Training - Downloading the training image........................\n",
      "\n",
      "\n",
      "################## This Part is partially deleted ##################",
      "\n",
      "\n",
      "2023-12-11 20:27:42 Uploading - Uploading generated training model\n",
      "2023-12-11 20:27:42 Completed - Training job completed\n",
      "Training seconds: 293\n",
      "Billable seconds: 293\n",
      "CPU times: user 2.67 s, sys: 181 ms, total: 2.85 s\n",
      "Wall time: 6min 46s\n"
     ]
    }
   ],
   "source": [
    "%%time\n",
    "\n",
    "knn_autoencoder.fit(knn_autoencoder.record_set(encoded_train_set, labels=train_set[1]))"
   ]
  },
  {
   "cell_type": "code",
   "execution_count": 364,
   "id": "a5d7e89d-de71-4035-9211-41dc21440996",
   "metadata": {
    "tags": []
   },
   "outputs": [
    {
     "name": "stderr",
     "output_type": "stream",
     "text": [
      "INFO:sagemaker.image_uris:Same images used for training and inference. Defaulting to image scope: inference.\n",
      "INFO:sagemaker.image_uris:Ignoring unnecessary instance type: None.\n",
      "INFO:sagemaker:Creating model with name: knn-2023-12-11-20-30-03-155\n",
      "INFO:sagemaker:Creating endpoint-config with name knn-2023-12-11-20-30-03-155\n",
      "INFO:sagemaker:Creating endpoint with name knn-2023-12-11-20-30-03-155\n"
     ]
    },
    {
     "name": "stdout",
     "output_type": "stream",
     "text": [
      "----------!"
     ]
    }
   ],
   "source": [
    "knn_autoencoder_predictor = knn_autoencoder.deploy(initial_instance_count=1, instance_type=\"ml.r5.xlarge\")"
   ]
  },
  {
   "cell_type": "code",
   "execution_count": 377,
   "id": "16646c53-6d61-4f35-b609-b1dc0a066759",
   "metadata": {
    "tags": []
   },
   "outputs": [],
   "source": [
    "encoded_test_set = model.encoder(test_set[0]).numpy()"
   ]
  },
  {
   "cell_type": "code",
   "execution_count": 378,
   "id": "9d7cbf62-7709-45e7-ad95-afa8785ca69c",
   "metadata": {
    "tags": []
   },
   "outputs": [],
   "source": [
    "knn_autoencoder_predictions = knn_autoencoder_predictor.predict(encoded_test_set[:1000])"
   ]
  },
  {
   "cell_type": "code",
   "execution_count": 379,
   "id": "4f63891f-bb57-4078-b54e-33e081781e99",
   "metadata": {
    "tags": []
   },
   "outputs": [],
   "source": [
    "confusion_matrix_knn_autoencoder = confusion_matrix(test_set[1][:1000], [o.label[\"predicted_label\"].float64_tensor.values[0] for o in knn_autoencoder_predictions], labels=list(range(10)))"
   ]
  },
  {
   "cell_type": "code",
   "execution_count": 380,
   "id": "8012f47e-c4d8-406d-ad71-b246d8bdd133",
   "metadata": {
    "tags": []
   },
   "outputs": [
    {
     "data": {
      "text/plain": [
       "<sklearn.metrics._plot.confusion_matrix.ConfusionMatrixDisplay at 0x7f7694744880>"
      ]
     },
     "execution_count": 380,
     "metadata": {},
     "output_type": "execute_result"
    },
    {
     "data": {
      "image/png": "[encoded data removed]",
      "text/plain": [
       "<Figure size 1000x1000 with 2 Axes>"
      ]
     },
     "metadata": {},
     "output_type": "display_data"
    }
   ],
   "source": [
    "fig, ax = plt.subplots(figsize=(10,10))\n",
    "disp = ConfusionMatrixDisplay(confusion_matrix=confusion_matrix_knn_autoencoder, display_labels=list(range(10)))\n",
    "disp.plot(ax=ax)"
   ]
  }
 ],
 "metadata": {
  "availableInstances": [
   {
    "_defaultOrder": 0,
    "_isFastLaunch": true,
    "category": "General purpose",
    "gpuNum": 0,
    "hideHardwareSpecs": false,
    "memoryGiB": 4,
    "name": "ml.t3.medium",
    "vcpuNum": 2
   },
   {
    "_defaultOrder": 1,
    "_isFastLaunch": false,
    "category": "General purpose",
    "gpuNum": 0,
    "hideHardwareSpecs": false,
    "memoryGiB": 8,
    "name": "ml.t3.large",
    "vcpuNum": 2
   },
   {
    "_defaultOrder": 2,
    "_isFastLaunch": false,
    "category": "General purpose",
    "gpuNum": 0,
    "hideHardwareSpecs": false,
    "memoryGiB": 16,
    "name": "ml.t3.xlarge",
    "vcpuNum": 4
   },
   {
    "_defaultOrder": 3,
    "_isFastLaunch": false,
    "category": "General purpose",
    "gpuNum": 0,
    "hideHardwareSpecs": false,
    "memoryGiB": 32,
    "name": "ml.t3.2xlarge",
    "vcpuNum": 8
   },
   {
    "_defaultOrder": 4,
    "_isFastLaunch": true,
    "category": "General purpose",
    "gpuNum": 0,
    "hideHardwareSpecs": false,
    "memoryGiB": 8,
    "name": "ml.m5.large",
    "vcpuNum": 2
   },
   {
    "_defaultOrder": 5,
    "_isFastLaunch": false,
    "category": "General purpose",
    "gpuNum": 0,
    "hideHardwareSpecs": false,
    "memoryGiB": 16,
    "name": "ml.m5.xlarge",
    "vcpuNum": 4
   },
   {
    "_defaultOrder": 6,
    "_isFastLaunch": false,
    "category": "General purpose",
    "gpuNum": 0,
    "hideHardwareSpecs": false,
    "memoryGiB": 32,
    "name": "ml.m5.2xlarge",
    "vcpuNum": 8
   },
   {
    "_defaultOrder": 7,
    "_isFastLaunch": false,
    "category": "General purpose",
    "gpuNum": 0,
    "hideHardwareSpecs": false,
    "memoryGiB": 64,
    "name": "ml.m5.4xlarge",
    "vcpuNum": 16
   },
   {
    "_defaultOrder": 8,
    "_isFastLaunch": false,
    "category": "General purpose",
    "gpuNum": 0,
    "hideHardwareSpecs": false,
    "memoryGiB": 128,
    "name": "ml.m5.8xlarge",
    "vcpuNum": 32
   },
   {
    "_defaultOrder": 9,
    "_isFastLaunch": false,
    "category": "General purpose",
    "gpuNum": 0,
    "hideHardwareSpecs": false,
    "memoryGiB": 192,
    "name": "ml.m5.12xlarge",
    "vcpuNum": 48
   },
   {
    "_defaultOrder": 10,
    "_isFastLaunch": false,
    "category": "General purpose",
    "gpuNum": 0,
    "hideHardwareSpecs": false,
    "memoryGiB": 256,
    "name": "ml.m5.16xlarge",
    "vcpuNum": 64
   },
   {
    "_defaultOrder": 11,
    "_isFastLaunch": false,
    "category": "General purpose",
    "gpuNum": 0,
    "hideHardwareSpecs": false,
    "memoryGiB": 384,
    "name": "ml.m5.24xlarge",
    "vcpuNum": 96
   },
   {
    "_defaultOrder": 12,
    "_isFastLaunch": false,
    "category": "General purpose",
    "gpuNum": 0,
    "hideHardwareSpecs": false,
    "memoryGiB": 8,
    "name": "ml.m5d.large",
    "vcpuNum": 2
   },
   {
    "_defaultOrder": 13,
    "_isFastLaunch": false,
    "category": "General purpose",
    "gpuNum": 0,
    "hideHardwareSpecs": false,
    "memoryGiB": 16,
    "name": "ml.m5d.xlarge",
    "vcpuNum": 4
   },
   {
    "_defaultOrder": 14,
    "_isFastLaunch": false,
    "category": "General purpose",
    "gpuNum": 0,
    "hideHardwareSpecs": false,
    "memoryGiB": 32,
    "name": "ml.m5d.2xlarge",
    "vcpuNum": 8
   },
   {
    "_defaultOrder": 15,
    "_isFastLaunch": false,
    "category": "General purpose",
    "gpuNum": 0,
    "hideHardwareSpecs": false,
    "memoryGiB": 64,
    "name": "ml.m5d.4xlarge",
    "vcpuNum": 16
   },
   {
    "_defaultOrder": 16,
    "_isFastLaunch": false,
    "category": "General purpose",
    "gpuNum": 0,
    "hideHardwareSpecs": false,
    "memoryGiB": 128,
    "name": "ml.m5d.8xlarge",
    "vcpuNum": 32
   },
   {
    "_defaultOrder": 17,
    "_isFastLaunch": false,
    "category": "General purpose",
    "gpuNum": 0,
    "hideHardwareSpecs": false,
    "memoryGiB": 192,
    "name": "ml.m5d.12xlarge",
    "vcpuNum": 48
   },
   {
    "_defaultOrder": 18,
    "_isFastLaunch": false,
    "category": "General purpose",
    "gpuNum": 0,
    "hideHardwareSpecs": false,
    "memoryGiB": 256,
    "name": "ml.m5d.16xlarge",
    "vcpuNum": 64
   },
   {
    "_defaultOrder": 19,
    "_isFastLaunch": false,
    "category": "General purpose",
    "gpuNum": 0,
    "hideHardwareSpecs": false,
    "memoryGiB": 384,
    "name": "ml.m5d.24xlarge",
    "vcpuNum": 96
   },
   {
    "_defaultOrder": 20,
    "_isFastLaunch": false,
    "category": "General purpose",
    "gpuNum": 0,
    "hideHardwareSpecs": true,
    "memoryGiB": 0,
    "name": "ml.geospatial.interactive",
    "supportedImageNames": [
     "sagemaker-geospatial-v1-0"
    ],
    "vcpuNum": 0
   },
   {
    "_defaultOrder": 21,
    "_isFastLaunch": true,
    "category": "Compute optimized",
    "gpuNum": 0,
    "hideHardwareSpecs": false,
    "memoryGiB": 4,
    "name": "ml.c5.large",
    "vcpuNum": 2
   },
   {
    "_defaultOrder": 22,
    "_isFastLaunch": false,
    "category": "Compute optimized",
    "gpuNum": 0,
    "hideHardwareSpecs": false,
    "memoryGiB": 8,
    "name": "ml.c5.xlarge",
    "vcpuNum": 4
   },
   {
    "_defaultOrder": 23,
    "_isFastLaunch": false,
    "category": "Compute optimized",
    "gpuNum": 0,
    "hideHardwareSpecs": false,
    "memoryGiB": 16,
    "name": "ml.c5.2xlarge",
    "vcpuNum": 8
   },
   {
    "_defaultOrder": 24,
    "_isFastLaunch": false,
    "category": "Compute optimized",
    "gpuNum": 0,
    "hideHardwareSpecs": false,
    "memoryGiB": 32,
    "name": "ml.c5.4xlarge",
    "vcpuNum": 16
   },
   {
    "_defaultOrder": 25,
    "_isFastLaunch": false,
    "category": "Compute optimized",
    "gpuNum": 0,
    "hideHardwareSpecs": false,
    "memoryGiB": 72,
    "name": "ml.c5.9xlarge",
    "vcpuNum": 36
   },
   {
    "_defaultOrder": 26,
    "_isFastLaunch": false,
    "category": "Compute optimized",
    "gpuNum": 0,
    "hideHardwareSpecs": false,
    "memoryGiB": 96,
    "name": "ml.c5.12xlarge",
    "vcpuNum": 48
   },
   {
    "_defaultOrder": 27,
    "_isFastLaunch": false,
    "category": "Compute optimized",
    "gpuNum": 0,
    "hideHardwareSpecs": false,
    "memoryGiB": 144,
    "name": "ml.c5.18xlarge",
    "vcpuNum": 72
   },
   {
    "_defaultOrder": 28,
    "_isFastLaunch": false,
    "category": "Compute optimized",
    "gpuNum": 0,
    "hideHardwareSpecs": false,
    "memoryGiB": 192,
    "name": "ml.c5.24xlarge",
    "vcpuNum": 96
   },
   {
    "_defaultOrder": 29,
    "_isFastLaunch": true,
    "category": "Accelerated computing",
    "gpuNum": 1,
    "hideHardwareSpecs": false,
    "memoryGiB": 16,
    "name": "ml.g4dn.xlarge",
    "vcpuNum": 4
   },
   {
    "_defaultOrder": 30,
    "_isFastLaunch": false,
    "category": "Accelerated computing",
    "gpuNum": 1,
    "hideHardwareSpecs": false,
    "memoryGiB": 32,
    "name": "ml.g4dn.2xlarge",
    "vcpuNum": 8
   },
   {
    "_defaultOrder": 31,
    "_isFastLaunch": false,
    "category": "Accelerated computing",
    "gpuNum": 1,
    "hideHardwareSpecs": false,
    "memoryGiB": 64,
    "name": "ml.g4dn.4xlarge",
    "vcpuNum": 16
   },
   {
    "_defaultOrder": 32,
    "_isFastLaunch": false,
    "category": "Accelerated computing",
    "gpuNum": 1,
    "hideHardwareSpecs": false,
    "memoryGiB": 128,
    "name": "ml.g4dn.8xlarge",
    "vcpuNum": 32
   },
   {
    "_defaultOrder": 33,
    "_isFastLaunch": false,
    "category": "Accelerated computing",
    "gpuNum": 4,
    "hideHardwareSpecs": false,
    "memoryGiB": 192,
    "name": "ml.g4dn.12xlarge",
    "vcpuNum": 48
   },
   {
    "_defaultOrder": 34,
    "_isFastLaunch": false,
    "category": "Accelerated computing",
    "gpuNum": 1,
    "hideHardwareSpecs": false,
    "memoryGiB": 256,
    "name": "ml.g4dn.16xlarge",
    "vcpuNum": 64
   },
   {
    "_defaultOrder": 35,
    "_isFastLaunch": false,
    "category": "Accelerated computing",
    "gpuNum": 1,
    "hideHardwareSpecs": false,
    "memoryGiB": 61,
    "name": "ml.p3.2xlarge",
    "vcpuNum": 8
   },
   {
    "_defaultOrder": 36,
    "_isFastLaunch": false,
    "category": "Accelerated computing",
    "gpuNum": 4,
    "hideHardwareSpecs": false,
    "memoryGiB": 244,
    "name": "ml.p3.8xlarge",
    "vcpuNum": 32
   },
   {
    "_defaultOrder": 37,
    "_isFastLaunch": false,
    "category": "Accelerated computing",
    "gpuNum": 8,
    "hideHardwareSpecs": false,
    "memoryGiB": 488,
    "name": "ml.p3.16xlarge",
    "vcpuNum": 64
   },
   {
    "_defaultOrder": 38,
    "_isFastLaunch": false,
    "category": "Accelerated computing",
    "gpuNum": 8,
    "hideHardwareSpecs": false,
    "memoryGiB": 768,
    "name": "ml.p3dn.24xlarge",
    "vcpuNum": 96
   },
   {
    "_defaultOrder": 39,
    "_isFastLaunch": false,
    "category": "Memory Optimized",
    "gpuNum": 0,
    "hideHardwareSpecs": false,
    "memoryGiB": 16,
    "name": "ml.r5.large",
    "vcpuNum": 2
   },
   {
    "_defaultOrder": 40,
    "_isFastLaunch": false,
    "category": "Memory Optimized",
    "gpuNum": 0,
    "hideHardwareSpecs": false,
    "memoryGiB": 32,
    "name": "ml.r5.xlarge",
    "vcpuNum": 4
   },
   {
    "_defaultOrder": 41,
    "_isFastLaunch": false,
    "category": "Memory Optimized",
    "gpuNum": 0,
    "hideHardwareSpecs": false,
    "memoryGiB": 64,
    "name": "ml.r5.2xlarge",
    "vcpuNum": 8
   },
   {
    "_defaultOrder": 42,
    "_isFastLaunch": false,
    "category": "Memory Optimized",
    "gpuNum": 0,
    "hideHardwareSpecs": false,
    "memoryGiB": 128,
    "name": "ml.r5.4xlarge",
    "vcpuNum": 16
   },
   {
    "_defaultOrder": 43,
    "_isFastLaunch": false,
    "category": "Memory Optimized",
    "gpuNum": 0,
    "hideHardwareSpecs": false,
    "memoryGiB": 256,
    "name": "ml.r5.8xlarge",
    "vcpuNum": 32
   },
   {
    "_defaultOrder": 44,
    "_isFastLaunch": false,
    "category": "Memory Optimized",
    "gpuNum": 0,
    "hideHardwareSpecs": false,
    "memoryGiB": 384,
    "name": "ml.r5.12xlarge",
    "vcpuNum": 48
   },
   {
    "_defaultOrder": 45,
    "_isFastLaunch": false,
    "category": "Memory Optimized",
    "gpuNum": 0,
    "hideHardwareSpecs": false,
    "memoryGiB": 512,
    "name": "ml.r5.16xlarge",
    "vcpuNum": 64
   },
   {
    "_defaultOrder": 46,
    "_isFastLaunch": false,
    "category": "Memory Optimized",
    "gpuNum": 0,
    "hideHardwareSpecs": false,
    "memoryGiB": 768,
    "name": "ml.r5.24xlarge",
    "vcpuNum": 96
   },
   {
    "_defaultOrder": 47,
    "_isFastLaunch": false,
    "category": "Accelerated computing",
    "gpuNum": 1,
    "hideHardwareSpecs": false,
    "memoryGiB": 16,
    "name": "ml.g5.xlarge",
    "vcpuNum": 4
   },
   {
    "_defaultOrder": 48,
    "_isFastLaunch": false,
    "category": "Accelerated computing",
    "gpuNum": 1,
    "hideHardwareSpecs": false,
    "memoryGiB": 32,
    "name": "ml.g5.2xlarge",
    "vcpuNum": 8
   },
   {
    "_defaultOrder": 49,
    "_isFastLaunch": false,
    "category": "Accelerated computing",
    "gpuNum": 1,
    "hideHardwareSpecs": false,
    "memoryGiB": 64,
    "name": "ml.g5.4xlarge",
    "vcpuNum": 16
   },
   {
    "_defaultOrder": 50,
    "_isFastLaunch": false,
    "category": "Accelerated computing",
    "gpuNum": 1,
    "hideHardwareSpecs": false,
    "memoryGiB": 128,
    "name": "ml.g5.8xlarge",
    "vcpuNum": 32
   },
   {
    "_defaultOrder": 51,
    "_isFastLaunch": false,
    "category": "Accelerated computing",
    "gpuNum": 1,
    "hideHardwareSpecs": false,
    "memoryGiB": 256,
    "name": "ml.g5.16xlarge",
    "vcpuNum": 64
   },
   {
    "_defaultOrder": 52,
    "_isFastLaunch": false,
    "category": "Accelerated computing",
    "gpuNum": 4,
    "hideHardwareSpecs": false,
    "memoryGiB": 192,
    "name": "ml.g5.12xlarge",
    "vcpuNum": 48
   },
   {
    "_defaultOrder": 53,
    "_isFastLaunch": false,
    "category": "Accelerated computing",
    "gpuNum": 4,
    "hideHardwareSpecs": false,
    "memoryGiB": 384,
    "name": "ml.g5.24xlarge",
    "vcpuNum": 96
   },
   {
    "_defaultOrder": 54,
    "_isFastLaunch": false,
    "category": "Accelerated computing",
    "gpuNum": 8,
    "hideHardwareSpecs": false,
    "memoryGiB": 768,
    "name": "ml.g5.48xlarge",
    "vcpuNum": 192
   },
   {
    "_defaultOrder": 55,
    "_isFastLaunch": false,
    "category": "Accelerated computing",
    "gpuNum": 8,
    "hideHardwareSpecs": false,
    "memoryGiB": 1152,
    "name": "ml.p4d.24xlarge",
    "vcpuNum": 96
   },
   {
    "_defaultOrder": 56,
    "_isFastLaunch": false,
    "category": "Accelerated computing",
    "gpuNum": 8,
    "hideHardwareSpecs": false,
    "memoryGiB": 1152,
    "name": "ml.p4de.24xlarge",
    "vcpuNum": 96
   },
   {
    "_defaultOrder": 57,
    "_isFastLaunch": false,
    "category": "Accelerated computing",
    "gpuNum": 0,
    "hideHardwareSpecs": false,
    "memoryGiB": 32,
    "name": "ml.trn1.2xlarge",
    "vcpuNum": 8
   },
   {
    "_defaultOrder": 58,
    "_isFastLaunch": false,
    "category": "Accelerated computing",
    "gpuNum": 0,
    "hideHardwareSpecs": false,
    "memoryGiB": 512,
    "name": "ml.trn1.32xlarge",
    "vcpuNum": 128
   },
   {
    "_defaultOrder": 59,
    "_isFastLaunch": false,
    "category": "Accelerated computing",
    "gpuNum": 0,
    "hideHardwareSpecs": false,
    "memoryGiB": 512,
    "name": "ml.trn1n.32xlarge",
    "vcpuNum": 128
   }
  ],
  "instance_type": "ml.t3.medium",
  "kernelspec": {
   "display_name": "Python 3 (Data Science 3.0)",
   "language": "python",
   "name": "python3__SAGEMAKER_INTERNAL__arn:aws:sagemaker:eu-west-1:470317259841:image/sagemaker-data-science-310-v1"
  },
  "language_info": {
   "codemirror_mode": {
    "name": "ipython",
    "version": 3
   },
   "file_extension": ".py",
   "mimetype": "text/x-python",
   "name": "python",
   "nbconvert_exporter": "python",
   "pygments_lexer": "ipython3",
   "version": "3.10.6"
  }
 },
 "nbformat": 4,
 "nbformat_minor": 5
}
